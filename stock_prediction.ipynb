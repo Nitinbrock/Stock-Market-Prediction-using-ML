{
 "cells": [
  {
   "cell_type": "markdown",
   "id": "3a7a201e-0fcc-4256-ad76-5f13283feba7",
   "metadata": {},
   "source": [
    "# Stock Market Prediction using Machine Learning"
   ]
  },
  {
   "cell_type": "markdown",
   "id": "07863cc6-46fc-4663-a7ae-67ac977d1591",
   "metadata": {},
   "source": [
    "#### Data Loading & EDA"
   ]
  },
  {
   "cell_type": "markdown",
   "id": "67a7bd84-a5ea-4a2e-a884-b148b1f7d677",
   "metadata": {},
   "source": [
    "##### Importing necessary libraries of ML"
   ]
  },
  {
   "cell_type": "code",
   "execution_count": 2,
   "id": "72c3e731-849d-4990-9de9-02dcf9fb0df6",
   "metadata": {},
   "outputs": [],
   "source": [
    "import numpy as np\n",
    "import pandas as pd\n",
    "import matplotlib.pyplot as plt\n",
    "import seaborn as sns"
   ]
  },
  {
   "cell_type": "markdown",
   "id": "0391a10b-eea7-4c24-a9b5-a8e5e4cbc9f8",
   "metadata": {},
   "source": [
    "##### Loading the Apple's Historical stock dataset"
   ]
  },
  {
   "cell_type": "code",
   "execution_count": 3,
   "id": "f50fd925-efc7-4270-84b8-3d3f312f0d35",
   "metadata": {},
   "outputs": [
    {
     "data": {
      "text/html": [
       "<div>\n",
       "<style scoped>\n",
       "    .dataframe tbody tr th:only-of-type {\n",
       "        vertical-align: middle;\n",
       "    }\n",
       "\n",
       "    .dataframe tbody tr th {\n",
       "        vertical-align: top;\n",
       "    }\n",
       "\n",
       "    .dataframe thead th {\n",
       "        text-align: right;\n",
       "    }\n",
       "</style>\n",
       "<table border=\"1\" class=\"dataframe\">\n",
       "  <thead>\n",
       "    <tr style=\"text-align: right;\">\n",
       "      <th></th>\n",
       "      <th>Date</th>\n",
       "      <th>Open</th>\n",
       "      <th>High</th>\n",
       "      <th>Low</th>\n",
       "      <th>Close</th>\n",
       "      <th>Adj Close</th>\n",
       "      <th>Volume</th>\n",
       "    </tr>\n",
       "  </thead>\n",
       "  <tbody>\n",
       "    <tr>\n",
       "      <th>0</th>\n",
       "      <td>2019-09-10</td>\n",
       "      <td>53.465000</td>\n",
       "      <td>54.195000</td>\n",
       "      <td>52.927502</td>\n",
       "      <td>54.174999</td>\n",
       "      <td>53.642761</td>\n",
       "      <td>127111600</td>\n",
       "    </tr>\n",
       "    <tr>\n",
       "      <th>1</th>\n",
       "      <td>2019-09-11</td>\n",
       "      <td>54.517502</td>\n",
       "      <td>55.927502</td>\n",
       "      <td>54.432499</td>\n",
       "      <td>55.897499</td>\n",
       "      <td>55.348343</td>\n",
       "      <td>177158400</td>\n",
       "    </tr>\n",
       "    <tr>\n",
       "      <th>2</th>\n",
       "      <td>2019-09-12</td>\n",
       "      <td>56.200001</td>\n",
       "      <td>56.605000</td>\n",
       "      <td>55.715000</td>\n",
       "      <td>55.772499</td>\n",
       "      <td>55.224567</td>\n",
       "      <td>128906800</td>\n",
       "    </tr>\n",
       "    <tr>\n",
       "      <th>3</th>\n",
       "      <td>2019-09-13</td>\n",
       "      <td>55.000000</td>\n",
       "      <td>55.197498</td>\n",
       "      <td>54.255001</td>\n",
       "      <td>54.687500</td>\n",
       "      <td>54.150230</td>\n",
       "      <td>159053200</td>\n",
       "    </tr>\n",
       "    <tr>\n",
       "      <th>4</th>\n",
       "      <td>2019-09-16</td>\n",
       "      <td>54.432499</td>\n",
       "      <td>55.032501</td>\n",
       "      <td>54.389999</td>\n",
       "      <td>54.974998</td>\n",
       "      <td>54.434902</td>\n",
       "      <td>84632400</td>\n",
       "    </tr>\n",
       "    <tr>\n",
       "      <th>...</th>\n",
       "      <td>...</td>\n",
       "      <td>...</td>\n",
       "      <td>...</td>\n",
       "      <td>...</td>\n",
       "      <td>...</td>\n",
       "      <td>...</td>\n",
       "      <td>...</td>\n",
       "    </tr>\n",
       "    <tr>\n",
       "      <th>249</th>\n",
       "      <td>2020-09-03</td>\n",
       "      <td>126.910004</td>\n",
       "      <td>128.839996</td>\n",
       "      <td>120.500000</td>\n",
       "      <td>120.879997</td>\n",
       "      <td>120.879997</td>\n",
       "      <td>257599600</td>\n",
       "    </tr>\n",
       "    <tr>\n",
       "      <th>250</th>\n",
       "      <td>2020-09-04</td>\n",
       "      <td>120.070000</td>\n",
       "      <td>123.699997</td>\n",
       "      <td>110.889999</td>\n",
       "      <td>120.959999</td>\n",
       "      <td>120.959999</td>\n",
       "      <td>332607200</td>\n",
       "    </tr>\n",
       "    <tr>\n",
       "      <th>251</th>\n",
       "      <td>2020-09-08</td>\n",
       "      <td>113.949997</td>\n",
       "      <td>118.989998</td>\n",
       "      <td>112.680000</td>\n",
       "      <td>112.820000</td>\n",
       "      <td>112.820000</td>\n",
       "      <td>231366600</td>\n",
       "    </tr>\n",
       "    <tr>\n",
       "      <th>252</th>\n",
       "      <td>2020-09-09</td>\n",
       "      <td>117.260002</td>\n",
       "      <td>119.139999</td>\n",
       "      <td>115.260002</td>\n",
       "      <td>117.320000</td>\n",
       "      <td>117.320000</td>\n",
       "      <td>176276400</td>\n",
       "    </tr>\n",
       "    <tr>\n",
       "      <th>253</th>\n",
       "      <td>2020-09-10</td>\n",
       "      <td>120.360001</td>\n",
       "      <td>120.419998</td>\n",
       "      <td>114.150002</td>\n",
       "      <td>114.274597</td>\n",
       "      <td>114.274597</td>\n",
       "      <td>118115972</td>\n",
       "    </tr>\n",
       "  </tbody>\n",
       "</table>\n",
       "<p>254 rows × 7 columns</p>\n",
       "</div>"
      ],
      "text/plain": [
       "           Date        Open        High         Low       Close   Adj Close  \\\n",
       "0    2019-09-10   53.465000   54.195000   52.927502   54.174999   53.642761   \n",
       "1    2019-09-11   54.517502   55.927502   54.432499   55.897499   55.348343   \n",
       "2    2019-09-12   56.200001   56.605000   55.715000   55.772499   55.224567   \n",
       "3    2019-09-13   55.000000   55.197498   54.255001   54.687500   54.150230   \n",
       "4    2019-09-16   54.432499   55.032501   54.389999   54.974998   54.434902   \n",
       "..          ...         ...         ...         ...         ...         ...   \n",
       "249  2020-09-03  126.910004  128.839996  120.500000  120.879997  120.879997   \n",
       "250  2020-09-04  120.070000  123.699997  110.889999  120.959999  120.959999   \n",
       "251  2020-09-08  113.949997  118.989998  112.680000  112.820000  112.820000   \n",
       "252  2020-09-09  117.260002  119.139999  115.260002  117.320000  117.320000   \n",
       "253  2020-09-10  120.360001  120.419998  114.150002  114.274597  114.274597   \n",
       "\n",
       "        Volume  \n",
       "0    127111600  \n",
       "1    177158400  \n",
       "2    128906800  \n",
       "3    159053200  \n",
       "4     84632400  \n",
       "..         ...  \n",
       "249  257599600  \n",
       "250  332607200  \n",
       "251  231366600  \n",
       "252  176276400  \n",
       "253  118115972  \n",
       "\n",
       "[254 rows x 7 columns]"
      ]
     },
     "execution_count": 3,
     "metadata": {},
     "output_type": "execute_result"
    }
   ],
   "source": [
    "df=pd.read_csv(r\"C:\\Users\\Nitin\\OneDrive\\ドキュメント\\AAPL_daily_update.csv\")\n",
    "df"
   ]
  },
  {
   "cell_type": "markdown",
   "id": "cfcc1f40-dfa1-44fd-aad7-70cd8f1f033a",
   "metadata": {},
   "source": [
    "##### Viewing the summary of the dataset"
   ]
  },
  {
   "cell_type": "code",
   "execution_count": 4,
   "id": "c389d764-ed42-4394-8941-06d4a1ed7b67",
   "metadata": {},
   "outputs": [
    {
     "name": "stdout",
     "output_type": "stream",
     "text": [
      "<class 'pandas.core.frame.DataFrame'>\n",
      "RangeIndex: 254 entries, 0 to 253\n",
      "Data columns (total 7 columns):\n",
      " #   Column     Non-Null Count  Dtype  \n",
      "---  ------     --------------  -----  \n",
      " 0   Date       254 non-null    object \n",
      " 1   Open       254 non-null    float64\n",
      " 2   High       254 non-null    float64\n",
      " 3   Low        254 non-null    float64\n",
      " 4   Close      254 non-null    float64\n",
      " 5   Adj Close  254 non-null    float64\n",
      " 6   Volume     254 non-null    int64  \n",
      "dtypes: float64(5), int64(1), object(1)\n",
      "memory usage: 14.0+ KB\n"
     ]
    }
   ],
   "source": [
    "df.info()"
   ]
  },
  {
   "cell_type": "markdown",
   "id": "ea79e86e-bb6b-4b46-adc2-c2481f05290f",
   "metadata": {},
   "source": [
    "##### Plotting the closing price to analyse trends"
   ]
  },
  {
   "cell_type": "code",
   "execution_count": 5,
   "id": "53f0f506-836f-4d36-b19e-8d42550acf88",
   "metadata": {},
   "outputs": [
    {
     "data": {
      "image/png": "[encoded data removed]",
      "text/plain": [
       "<Figure size 1200x600 with 1 Axes>"
      ]
     },
     "metadata": {},
     "output_type": "display_data"
    }
   ],
   "source": [
    "plt.figure(figsize=(12,6))\n",
    "plt.plot(df.index,df['Close'],label='Closing Price')\n",
    "plt.title('AAPL Daily Closing Price')\n",
    "plt.xlabel('Date')\n",
    "plt.ylabel('Closing Price')\n",
    "plt.legend()\n",
    "plt.show()"
   ]
  },
  {
   "cell_type": "markdown",
   "id": "627b76e3-33a4-4420-beb1-8ac0278196df",
   "metadata": {},
   "source": [
    "##### Checking for missing values to avoid deviations in accuracy"
   ]
  },
  {
   "cell_type": "code",
   "execution_count": 6,
   "id": "2b056365-eb3c-467f-8f40-53c31e4cdf86",
   "metadata": {},
   "outputs": [
    {
     "data": {
      "text/plain": [
       "Date         0\n",
       "Open         0\n",
       "High         0\n",
       "Low          0\n",
       "Close        0\n",
       "Adj Close    0\n",
       "Volume       0\n",
       "dtype: int64"
      ]
     },
     "execution_count": 6,
     "metadata": {},
     "output_type": "execute_result"
    }
   ],
   "source": [
    "df.isnull().sum()"
   ]
  },
  {
   "cell_type": "markdown",
   "id": "15fd9853-7093-4436-9d52-f250fda8e79c",
   "metadata": {},
   "source": [
    "##### Importing 'ta' Library"
   ]
  },
  {
   "cell_type": "markdown",
   "id": "043feab3-30e9-4df8-9e93-b61ce0810d21",
   "metadata": {},
   "source": [
    "'ta' library provides a wide range of technical analysis indicators that are commonly used in stock market analysis and algorithmic trading."
   ]
  },
  {
   "cell_type": "code",
   "execution_count": 7,
   "id": "4dcfb815-03d8-4955-bd82-ebcc2a4bf723",
   "metadata": {},
   "outputs": [],
   "source": [
    "import ta"
   ]
  },
  {
   "cell_type": "markdown",
   "id": "fbb126bf-ae7c-449e-843e-085b7f5c4614",
   "metadata": {},
   "source": [
    "#### Feature Engineering"
   ]
  },
  {
   "cell_type": "markdown",
   "id": "dbcabcea-93df-4014-9dd8-2fe500ad39e5",
   "metadata": {},
   "source": [
    "Calculating 20-day simple moving average and Exponential moving avearge "
   ]
  },
  {
   "cell_type": "markdown",
   "id": "2fb9fcac-1c0d-46b9-8cd6-f01a41a3a1bf",
   "metadata": {},
   "source": [
    "Simple moving avearge is calculated for the closing prices of last 20 days by finding the average in order eliminate short term fluctuations."
   ]
  },
  {
   "cell_type": "markdown",
   "id": "615c8285-786e-4c52-9ab3-cd27e2df4a6c",
   "metadata": {},
   "source": [
    "Exponential moving average is calculated for to highlight the recent change in trends."
   ]
  },
  {
   "cell_type": "code",
   "execution_count": 8,
   "id": "75854092-90fa-4a41-8e3f-3829a1a23943",
   "metadata": {},
   "outputs": [],
   "source": [
    "df['SMA']=ta.trend.sma_indicator(df['Close'],window=20)\n",
    "df['EMA']=ta.trend.ema_indicator(df['Close'],window=20)"
   ]
  },
  {
   "cell_type": "markdown",
   "id": "12288bf2-79c0-42d5-993a-f297fb3bd8e9",
   "metadata": {},
   "source": [
    "Relative Strength Index is used here to measure the speed and change of price movements indicating overbought and oversold conditions."
   ]
  },
  {
   "cell_type": "code",
   "execution_count": 9,
   "id": "899e862b-293c-4a6b-88b3-adb82b727545",
   "metadata": {},
   "outputs": [],
   "source": [
    "df['RSI']=ta.momentum.rsi(df['Close'],window=20)"
   ]
  },
  {
   "cell_type": "markdown",
   "id": "9a9abe43-e6b1-4b0c-a3b7-c2744ef5a773",
   "metadata": {},
   "source": [
    "##### Extracting Date Features"
   ]
  },
  {
   "cell_type": "markdown",
   "id": "243308ef-3d35-4c5e-a9c2-3d4f7956f1fa",
   "metadata": {},
   "source": [
    "extracting components from the date can help capture cyclical patterns."
   ]
  },
  {
   "cell_type": "code",
   "execution_count": 10,
   "id": "52776bcc-81f0-4b48-90b4-d5853434c08e",
   "metadata": {},
   "outputs": [],
   "source": [
    "df['Year']=df['Date'].str[:4]\n",
    "df['Month']=df['Date'].str[5:7]\n",
    "df['Day']=df['Date'].str[8:10]"
   ]
  },
  {
   "cell_type": "code",
   "execution_count": 11,
   "id": "c0a17e80-06d9-4f83-9d21-acbb8fed0349",
   "metadata": {},
   "outputs": [
    {
     "data": {
      "text/html": [
       "<div>\n",
       "<style scoped>\n",
       "    .dataframe tbody tr th:only-of-type {\n",
       "        vertical-align: middle;\n",
       "    }\n",
       "\n",
       "    .dataframe tbody tr th {\n",
       "        vertical-align: top;\n",
       "    }\n",
       "\n",
       "    .dataframe thead th {\n",
       "        text-align: right;\n",
       "    }\n",
       "</style>\n",
       "<table border=\"1\" class=\"dataframe\">\n",
       "  <thead>\n",
       "    <tr style=\"text-align: right;\">\n",
       "      <th></th>\n",
       "      <th>Date</th>\n",
       "      <th>Open</th>\n",
       "      <th>High</th>\n",
       "      <th>Low</th>\n",
       "      <th>Close</th>\n",
       "      <th>Adj Close</th>\n",
       "      <th>Volume</th>\n",
       "      <th>SMA</th>\n",
       "      <th>EMA</th>\n",
       "      <th>RSI</th>\n",
       "      <th>Year</th>\n",
       "      <th>Month</th>\n",
       "      <th>Day</th>\n",
       "    </tr>\n",
       "  </thead>\n",
       "  <tbody>\n",
       "    <tr>\n",
       "      <th>0</th>\n",
       "      <td>2019-09-10</td>\n",
       "      <td>53.465000</td>\n",
       "      <td>54.195000</td>\n",
       "      <td>52.927502</td>\n",
       "      <td>54.174999</td>\n",
       "      <td>53.642761</td>\n",
       "      <td>127111600</td>\n",
       "      <td>NaN</td>\n",
       "      <td>NaN</td>\n",
       "      <td>NaN</td>\n",
       "      <td>2019</td>\n",
       "      <td>09</td>\n",
       "      <td>10</td>\n",
       "    </tr>\n",
       "    <tr>\n",
       "      <th>1</th>\n",
       "      <td>2019-09-11</td>\n",
       "      <td>54.517502</td>\n",
       "      <td>55.927502</td>\n",
       "      <td>54.432499</td>\n",
       "      <td>55.897499</td>\n",
       "      <td>55.348343</td>\n",
       "      <td>177158400</td>\n",
       "      <td>NaN</td>\n",
       "      <td>NaN</td>\n",
       "      <td>NaN</td>\n",
       "      <td>2019</td>\n",
       "      <td>09</td>\n",
       "      <td>11</td>\n",
       "    </tr>\n",
       "    <tr>\n",
       "      <th>2</th>\n",
       "      <td>2019-09-12</td>\n",
       "      <td>56.200001</td>\n",
       "      <td>56.605000</td>\n",
       "      <td>55.715000</td>\n",
       "      <td>55.772499</td>\n",
       "      <td>55.224567</td>\n",
       "      <td>128906800</td>\n",
       "      <td>NaN</td>\n",
       "      <td>NaN</td>\n",
       "      <td>NaN</td>\n",
       "      <td>2019</td>\n",
       "      <td>09</td>\n",
       "      <td>12</td>\n",
       "    </tr>\n",
       "    <tr>\n",
       "      <th>3</th>\n",
       "      <td>2019-09-13</td>\n",
       "      <td>55.000000</td>\n",
       "      <td>55.197498</td>\n",
       "      <td>54.255001</td>\n",
       "      <td>54.687500</td>\n",
       "      <td>54.150230</td>\n",
       "      <td>159053200</td>\n",
       "      <td>NaN</td>\n",
       "      <td>NaN</td>\n",
       "      <td>NaN</td>\n",
       "      <td>2019</td>\n",
       "      <td>09</td>\n",
       "      <td>13</td>\n",
       "    </tr>\n",
       "    <tr>\n",
       "      <th>4</th>\n",
       "      <td>2019-09-16</td>\n",
       "      <td>54.432499</td>\n",
       "      <td>55.032501</td>\n",
       "      <td>54.389999</td>\n",
       "      <td>54.974998</td>\n",
       "      <td>54.434902</td>\n",
       "      <td>84632400</td>\n",
       "      <td>NaN</td>\n",
       "      <td>NaN</td>\n",
       "      <td>NaN</td>\n",
       "      <td>2019</td>\n",
       "      <td>09</td>\n",
       "      <td>16</td>\n",
       "    </tr>\n",
       "    <tr>\n",
       "      <th>...</th>\n",
       "      <td>...</td>\n",
       "      <td>...</td>\n",
       "      <td>...</td>\n",
       "      <td>...</td>\n",
       "      <td>...</td>\n",
       "      <td>...</td>\n",
       "      <td>...</td>\n",
       "      <td>...</td>\n",
       "      <td>...</td>\n",
       "      <td>...</td>\n",
       "      <td>...</td>\n",
       "      <td>...</td>\n",
       "      <td>...</td>\n",
       "    </tr>\n",
       "    <tr>\n",
       "      <th>249</th>\n",
       "      <td>2020-09-03</td>\n",
       "      <td>126.910004</td>\n",
       "      <td>128.839996</td>\n",
       "      <td>120.500000</td>\n",
       "      <td>120.879997</td>\n",
       "      <td>120.879997</td>\n",
       "      <td>257599600</td>\n",
       "      <td>120.359374</td>\n",
       "      <td>120.507164</td>\n",
       "      <td>58.696658</td>\n",
       "      <td>2020</td>\n",
       "      <td>09</td>\n",
       "      <td>03</td>\n",
       "    </tr>\n",
       "    <tr>\n",
       "      <th>250</th>\n",
       "      <td>2020-09-04</td>\n",
       "      <td>120.070000</td>\n",
       "      <td>123.699997</td>\n",
       "      <td>110.889999</td>\n",
       "      <td>120.959999</td>\n",
       "      <td>120.959999</td>\n",
       "      <td>332607200</td>\n",
       "      <td>120.851749</td>\n",
       "      <td>120.550291</td>\n",
       "      <td>58.765665</td>\n",
       "      <td>2020</td>\n",
       "      <td>09</td>\n",
       "      <td>04</td>\n",
       "    </tr>\n",
       "    <tr>\n",
       "      <th>251</th>\n",
       "      <td>2020-09-08</td>\n",
       "      <td>113.949997</td>\n",
       "      <td>118.989998</td>\n",
       "      <td>112.680000</td>\n",
       "      <td>112.820000</td>\n",
       "      <td>112.820000</td>\n",
       "      <td>231366600</td>\n",
       "      <td>120.856374</td>\n",
       "      <td>119.814073</td>\n",
       "      <td>49.846163</td>\n",
       "      <td>2020</td>\n",
       "      <td>09</td>\n",
       "      <td>08</td>\n",
       "    </tr>\n",
       "    <tr>\n",
       "      <th>252</th>\n",
       "      <td>2020-09-09</td>\n",
       "      <td>117.260002</td>\n",
       "      <td>119.139999</td>\n",
       "      <td>115.260002</td>\n",
       "      <td>117.320000</td>\n",
       "      <td>117.320000</td>\n",
       "      <td>176276400</td>\n",
       "      <td>121.253624</td>\n",
       "      <td>119.576542</td>\n",
       "      <td>53.916471</td>\n",
       "      <td>2020</td>\n",
       "      <td>09</td>\n",
       "      <td>09</td>\n",
       "    </tr>\n",
       "    <tr>\n",
       "      <th>253</th>\n",
       "      <td>2020-09-10</td>\n",
       "      <td>120.360001</td>\n",
       "      <td>120.419998</td>\n",
       "      <td>114.150002</td>\n",
       "      <td>114.274597</td>\n",
       "      <td>114.274597</td>\n",
       "      <td>118115972</td>\n",
       "      <td>121.316854</td>\n",
       "      <td>119.071595</td>\n",
       "      <td>50.969716</td>\n",
       "      <td>2020</td>\n",
       "      <td>09</td>\n",
       "      <td>10</td>\n",
       "    </tr>\n",
       "  </tbody>\n",
       "</table>\n",
       "<p>254 rows × 13 columns</p>\n",
       "</div>"
      ],
      "text/plain": [
       "           Date        Open        High         Low       Close   Adj Close  \\\n",
       "0    2019-09-10   53.465000   54.195000   52.927502   54.174999   53.642761   \n",
       "1    2019-09-11   54.517502   55.927502   54.432499   55.897499   55.348343   \n",
       "2    2019-09-12   56.200001   56.605000   55.715000   55.772499   55.224567   \n",
       "3    2019-09-13   55.000000   55.197498   54.255001   54.687500   54.150230   \n",
       "4    2019-09-16   54.432499   55.032501   54.389999   54.974998   54.434902   \n",
       "..          ...         ...         ...         ...         ...         ...   \n",
       "249  2020-09-03  126.910004  128.839996  120.500000  120.879997  120.879997   \n",
       "250  2020-09-04  120.070000  123.699997  110.889999  120.959999  120.959999   \n",
       "251  2020-09-08  113.949997  118.989998  112.680000  112.820000  112.820000   \n",
       "252  2020-09-09  117.260002  119.139999  115.260002  117.320000  117.320000   \n",
       "253  2020-09-10  120.360001  120.419998  114.150002  114.274597  114.274597   \n",
       "\n",
       "        Volume         SMA         EMA        RSI  Year Month Day  \n",
       "0    127111600         NaN         NaN        NaN  2019    09  10  \n",
       "1    177158400         NaN         NaN        NaN  2019    09  11  \n",
       "2    128906800         NaN         NaN        NaN  2019    09  12  \n",
       "3    159053200         NaN         NaN        NaN  2019    09  13  \n",
       "4     84632400         NaN         NaN        NaN  2019    09  16  \n",
       "..         ...         ...         ...        ...   ...   ...  ..  \n",
       "249  257599600  120.359374  120.507164  58.696658  2020    09  03  \n",
       "250  332607200  120.851749  120.550291  58.765665  2020    09  04  \n",
       "251  231366600  120.856374  119.814073  49.846163  2020    09  08  \n",
       "252  176276400  121.253624  119.576542  53.916471  2020    09  09  \n",
       "253  118115972  121.316854  119.071595  50.969716  2020    09  10  \n",
       "\n",
       "[254 rows x 13 columns]"
      ]
     },
     "execution_count": 11,
     "metadata": {},
     "output_type": "execute_result"
    }
   ],
   "source": [
    "df"
   ]
  },
  {
   "cell_type": "markdown",
   "id": "3c4aff40-adaf-48a8-a263-643abc0e038b",
   "metadata": {},
   "source": [
    "##### Target Creation\n",
    "Creating the output feature 'Target' "
   ]
  },
  {
   "cell_type": "code",
   "execution_count": 12,
   "id": "44007a1a-91f3-41cc-a8d6-599bc0cd0c9c",
   "metadata": {},
   "outputs": [],
   "source": [
    "df['Target']=df['Close'].shift(-1)\n",
    "df.dropna(inplace=True)"
   ]
  },
  {
   "cell_type": "markdown",
   "id": "0773285a-67cf-4ee9-8199-e04e6caa4a45",
   "metadata": {},
   "source": [
    "#### Train Test split \n",
    "Splitting the model in 80:20 ratio of train and test sets"
   ]
  },
  {
   "cell_type": "code",
   "execution_count": 13,
   "id": "3e591fd2-1ebd-4e2b-acfc-5682e98f6cba",
   "metadata": {},
   "outputs": [],
   "source": [
    "x=df.drop(columns=['Target','Date'])\n",
    "y=df['Target']\n",
    "train_size=int(0.7*len(df))\n",
    "x_train=x.iloc[:train_size]\n",
    "x_test=x.iloc[train_size:]\n",
    "y_train=y.iloc[:train_size]\n",
    "y_test=y.iloc[train_size:]"
   ]
  },
  {
   "cell_type": "markdown",
   "id": "f51ec2bb-7952-441f-9fed-1f78fb1efbf0",
   "metadata": {},
   "source": [
    "#### Model Training"
   ]
  },
  {
   "cell_type": "markdown",
   "id": "ed036e62-2fa5-45dd-b61e-268364baf2a1",
   "metadata": {},
   "source": [
    "##### Applying LinearRegression model to predict the next day's closing prices"
   ]
  },
  {
   "cell_type": "code",
   "execution_count": 47,
   "id": "11b1d57c-d011-43e6-9b62-6038cb7f259a",
   "metadata": {},
   "outputs": [],
   "source": [
    "from sklearn.linear_model import LinearRegression"
   ]
  },
  {
   "cell_type": "code",
   "execution_count": 48,
   "id": "0bdd7162-cf46-44f1-bffa-48d025a16da7",
   "metadata": {},
   "outputs": [],
   "source": [
    "model_1=LinearRegression()\n",
    "model_1.fit(x_train,y_train)\n",
    "y_pred=model_1.predict(x_test)"
   ]
  },
  {
   "cell_type": "code",
   "execution_count": 52,
   "id": "7c6d6c10-218c-4bfa-8474-1ecbc5125d8a",
   "metadata": {},
   "outputs": [
    {
     "data": {
      "text/html": [
       "<div>\n",
       "<style scoped>\n",
       "    .dataframe tbody tr th:only-of-type {\n",
       "        vertical-align: middle;\n",
       "    }\n",
       "\n",
       "    .dataframe tbody tr th {\n",
       "        vertical-align: top;\n",
       "    }\n",
       "\n",
       "    .dataframe thead th {\n",
       "        text-align: right;\n",
       "    }\n",
       "</style>\n",
       "<table border=\"1\" class=\"dataframe\">\n",
       "  <thead>\n",
       "    <tr style=\"text-align: right;\">\n",
       "      <th></th>\n",
       "      <th>Date</th>\n",
       "      <th>Open</th>\n",
       "      <th>High</th>\n",
       "      <th>Low</th>\n",
       "      <th>Close</th>\n",
       "      <th>Adj Close</th>\n",
       "      <th>Volume</th>\n",
       "      <th>SMA</th>\n",
       "      <th>EMA</th>\n",
       "      <th>RSI</th>\n",
       "      <th>Year</th>\n",
       "      <th>Month</th>\n",
       "      <th>Day</th>\n",
       "      <th>Target</th>\n",
       "    </tr>\n",
       "  </thead>\n",
       "  <tbody>\n",
       "    <tr>\n",
       "      <th>19</th>\n",
       "      <td>2019-10-07</td>\n",
       "      <td>56.567501</td>\n",
       "      <td>57.482498</td>\n",
       "      <td>56.459999</td>\n",
       "      <td>56.764999</td>\n",
       "      <td>56.207317</td>\n",
       "      <td>122306000</td>\n",
       "      <td>55.284250</td>\n",
       "      <td>55.316706</td>\n",
       "      <td>62.070087</td>\n",
       "      <td>2019</td>\n",
       "      <td>10</td>\n",
       "      <td>7</td>\n",
       "      <td>56.099998</td>\n",
       "    </tr>\n",
       "    <tr>\n",
       "      <th>20</th>\n",
       "      <td>2019-10-08</td>\n",
       "      <td>56.455002</td>\n",
       "      <td>57.014999</td>\n",
       "      <td>56.082500</td>\n",
       "      <td>56.099998</td>\n",
       "      <td>55.548851</td>\n",
       "      <td>111820000</td>\n",
       "      <td>55.380500</td>\n",
       "      <td>55.391305</td>\n",
       "      <td>57.023185</td>\n",
       "      <td>2019</td>\n",
       "      <td>10</td>\n",
       "      <td>8</td>\n",
       "      <td>56.757500</td>\n",
       "    </tr>\n",
       "    <tr>\n",
       "      <th>21</th>\n",
       "      <td>2019-10-09</td>\n",
       "      <td>56.757500</td>\n",
       "      <td>56.947498</td>\n",
       "      <td>56.410000</td>\n",
       "      <td>56.757500</td>\n",
       "      <td>56.199894</td>\n",
       "      <td>74770400</td>\n",
       "      <td>55.423500</td>\n",
       "      <td>55.521419</td>\n",
       "      <td>60.376302</td>\n",
       "      <td>2019</td>\n",
       "      <td>10</td>\n",
       "      <td>9</td>\n",
       "      <td>57.522499</td>\n",
       "    </tr>\n",
       "    <tr>\n",
       "      <th>22</th>\n",
       "      <td>2019-10-10</td>\n",
       "      <td>56.982498</td>\n",
       "      <td>57.610001</td>\n",
       "      <td>56.825001</td>\n",
       "      <td>57.522499</td>\n",
       "      <td>56.957375</td>\n",
       "      <td>113013600</td>\n",
       "      <td>55.511000</td>\n",
       "      <td>55.711998</td>\n",
       "      <td>63.832315</td>\n",
       "      <td>2019</td>\n",
       "      <td>10</td>\n",
       "      <td>10</td>\n",
       "      <td>59.052502</td>\n",
       "    </tr>\n",
       "    <tr>\n",
       "      <th>23</th>\n",
       "      <td>2019-10-11</td>\n",
       "      <td>58.237499</td>\n",
       "      <td>59.410000</td>\n",
       "      <td>58.077499</td>\n",
       "      <td>59.052502</td>\n",
       "      <td>58.472343</td>\n",
       "      <td>166795600</td>\n",
       "      <td>55.729250</td>\n",
       "      <td>56.030141</td>\n",
       "      <td>69.443250</td>\n",
       "      <td>2019</td>\n",
       "      <td>10</td>\n",
       "      <td>11</td>\n",
       "      <td>58.967499</td>\n",
       "    </tr>\n",
       "    <tr>\n",
       "      <th>...</th>\n",
       "      <td>...</td>\n",
       "      <td>...</td>\n",
       "      <td>...</td>\n",
       "      <td>...</td>\n",
       "      <td>...</td>\n",
       "      <td>...</td>\n",
       "      <td>...</td>\n",
       "      <td>...</td>\n",
       "      <td>...</td>\n",
       "      <td>...</td>\n",
       "      <td>...</td>\n",
       "      <td>...</td>\n",
       "      <td>...</td>\n",
       "      <td>...</td>\n",
       "    </tr>\n",
       "    <tr>\n",
       "      <th>248</th>\n",
       "      <td>2020-09-02</td>\n",
       "      <td>137.589996</td>\n",
       "      <td>137.979996</td>\n",
       "      <td>127.000000</td>\n",
       "      <td>131.399994</td>\n",
       "      <td>131.399994</td>\n",
       "      <td>200119000</td>\n",
       "      <td>120.010499</td>\n",
       "      <td>120.467919</td>\n",
       "      <td>74.211384</td>\n",
       "      <td>2020</td>\n",
       "      <td>9</td>\n",
       "      <td>2</td>\n",
       "      <td>120.879997</td>\n",
       "    </tr>\n",
       "    <tr>\n",
       "      <th>249</th>\n",
       "      <td>2020-09-03</td>\n",
       "      <td>126.910004</td>\n",
       "      <td>128.839996</td>\n",
       "      <td>120.500000</td>\n",
       "      <td>120.879997</td>\n",
       "      <td>120.879997</td>\n",
       "      <td>257599600</td>\n",
       "      <td>120.359374</td>\n",
       "      <td>120.507164</td>\n",
       "      <td>58.696658</td>\n",
       "      <td>2020</td>\n",
       "      <td>9</td>\n",
       "      <td>3</td>\n",
       "      <td>120.959999</td>\n",
       "    </tr>\n",
       "    <tr>\n",
       "      <th>250</th>\n",
       "      <td>2020-09-04</td>\n",
       "      <td>120.070000</td>\n",
       "      <td>123.699997</td>\n",
       "      <td>110.889999</td>\n",
       "      <td>120.959999</td>\n",
       "      <td>120.959999</td>\n",
       "      <td>332607200</td>\n",
       "      <td>120.851749</td>\n",
       "      <td>120.550291</td>\n",
       "      <td>58.765665</td>\n",
       "      <td>2020</td>\n",
       "      <td>9</td>\n",
       "      <td>4</td>\n",
       "      <td>112.820000</td>\n",
       "    </tr>\n",
       "    <tr>\n",
       "      <th>251</th>\n",
       "      <td>2020-09-08</td>\n",
       "      <td>113.949997</td>\n",
       "      <td>118.989998</td>\n",
       "      <td>112.680000</td>\n",
       "      <td>112.820000</td>\n",
       "      <td>112.820000</td>\n",
       "      <td>231366600</td>\n",
       "      <td>120.856374</td>\n",
       "      <td>119.814073</td>\n",
       "      <td>49.846163</td>\n",
       "      <td>2020</td>\n",
       "      <td>9</td>\n",
       "      <td>8</td>\n",
       "      <td>117.320000</td>\n",
       "    </tr>\n",
       "    <tr>\n",
       "      <th>252</th>\n",
       "      <td>2020-09-09</td>\n",
       "      <td>117.260002</td>\n",
       "      <td>119.139999</td>\n",
       "      <td>115.260002</td>\n",
       "      <td>117.320000</td>\n",
       "      <td>117.320000</td>\n",
       "      <td>176276400</td>\n",
       "      <td>121.253624</td>\n",
       "      <td>119.576542</td>\n",
       "      <td>53.916471</td>\n",
       "      <td>2020</td>\n",
       "      <td>9</td>\n",
       "      <td>9</td>\n",
       "      <td>114.274597</td>\n",
       "    </tr>\n",
       "  </tbody>\n",
       "</table>\n",
       "<p>234 rows × 14 columns</p>\n",
       "</div>"
      ],
      "text/plain": [
       "           Date        Open        High         Low       Close   Adj Close  \\\n",
       "19   2019-10-07   56.567501   57.482498   56.459999   56.764999   56.207317   \n",
       "20   2019-10-08   56.455002   57.014999   56.082500   56.099998   55.548851   \n",
       "21   2019-10-09   56.757500   56.947498   56.410000   56.757500   56.199894   \n",
       "22   2019-10-10   56.982498   57.610001   56.825001   57.522499   56.957375   \n",
       "23   2019-10-11   58.237499   59.410000   58.077499   59.052502   58.472343   \n",
       "..          ...         ...         ...         ...         ...         ...   \n",
       "248  2020-09-02  137.589996  137.979996  127.000000  131.399994  131.399994   \n",
       "249  2020-09-03  126.910004  128.839996  120.500000  120.879997  120.879997   \n",
       "250  2020-09-04  120.070000  123.699997  110.889999  120.959999  120.959999   \n",
       "251  2020-09-08  113.949997  118.989998  112.680000  112.820000  112.820000   \n",
       "252  2020-09-09  117.260002  119.139999  115.260002  117.320000  117.320000   \n",
       "\n",
       "        Volume         SMA         EMA        RSI  Year  Month  Day  \\\n",
       "19   122306000   55.284250   55.316706  62.070087  2019     10    7   \n",
       "20   111820000   55.380500   55.391305  57.023185  2019     10    8   \n",
       "21    74770400   55.423500   55.521419  60.376302  2019     10    9   \n",
       "22   113013600   55.511000   55.711998  63.832315  2019     10   10   \n",
       "23   166795600   55.729250   56.030141  69.443250  2019     10   11   \n",
       "..         ...         ...         ...        ...   ...    ...  ...   \n",
       "248  200119000  120.010499  120.467919  74.211384  2020      9    2   \n",
       "249  257599600  120.359374  120.507164  58.696658  2020      9    3   \n",
       "250  332607200  120.851749  120.550291  58.765665  2020      9    4   \n",
       "251  231366600  120.856374  119.814073  49.846163  2020      9    8   \n",
       "252  176276400  121.253624  119.576542  53.916471  2020      9    9   \n",
       "\n",
       "         Target  \n",
       "19    56.099998  \n",
       "20    56.757500  \n",
       "21    57.522499  \n",
       "22    59.052502  \n",
       "23    58.967499  \n",
       "..          ...  \n",
       "248  120.879997  \n",
       "249  120.959999  \n",
       "250  112.820000  \n",
       "251  117.320000  \n",
       "252  114.274597  \n",
       "\n",
       "[234 rows x 14 columns]"
      ]
     },
     "execution_count": 52,
     "metadata": {},
     "output_type": "execute_result"
    }
   ],
   "source": [
    "df"
   ]
  },
  {
   "cell_type": "markdown",
   "id": "b6f88626-a471-4d9d-a7da-f7f11bff3e8a",
   "metadata": {},
   "source": [
    "#### Evaluation"
   ]
  },
  {
   "cell_type": "code",
   "execution_count": null,
   "id": "7ca77585-ba10-48f2-9787-97597fbb427e",
   "metadata": {},
   "outputs": [],
   "source": [
    "from sklearn.metrics import mean_absolute_error, mean_squared_error, r2_score"
   ]
  },
  {
   "cell_type": "code",
   "execution_count": 54,
   "id": "2b1ce551-dd38-46a7-9bc7-e8d258df15e5",
   "metadata": {},
   "outputs": [
    {
     "name": "stdout",
     "output_type": "stream",
     "text": [
      "Mean Absolute Error: 2.3036092763733067\n",
      "Mean Squared Error: 10.463209914558831\n",
      "R2 Score:  0.9510344799907926\n"
     ]
    }
   ],
   "source": [
    "mae=mean_absolute_error(y_test,y_pred)\n",
    "mse=mean_squared_error(y_test,y_pred)\n",
    "acc=r2_score(y_test,y_pred)\n",
    "print(\"Mean Absolute Error:\",mae)\n",
    "print(\"Mean Squared Error:\",mse)\n",
    "print(\"R2 Score: \",acc)"
   ]
  },
  {
   "cell_type": "markdown",
   "id": "6f22b38c-c2a3-43c1-8467-5f93334c3ccc",
   "metadata": {},
   "source": [
    "#### Visualisation"
   ]
  },
  {
   "cell_type": "code",
   "execution_count": 60,
   "id": "bf50ce25-cb17-4f07-9ffb-20d48fb34f05",
   "metadata": {},
   "outputs": [],
   "source": [
    "import matplotlib.pyplot as plt"
   ]
  },
  {
   "cell_type": "code",
   "execution_count": 61,
   "id": "b7f7911c-9f74-4e87-9821-200b9373c509",
   "metadata": {},
   "outputs": [
    {
     "data": {
      "image/png": "[encoded data removed]",
      "text/plain": [
       "<Figure size 1200x600 with 1 Axes>"
      ]
     },
     "metadata": {},
     "output_type": "display_data"
    }
   ],
   "source": [
    "plt.figure(figsize=(12,6))\n",
    "plt.plot(y_test.index, y_test, label='Actual Closing Prices', color='blue')\n",
    "plt.plot(y_test.index, y_pred, label='Predicted Closing Prices', color='red', linestyle='--')\n",
    "plt.xlabel(\"Date\")\n",
    "plt.ylabel(\"Closing Price\")\n",
    "plt.title(\"Actual vs. Predicted Closing Prices\")\n",
    "plt.legend()\n",
    "plt.show()"
   ]
  },
  {
   "cell_type": "markdown",
   "id": "c949e149-febf-4d6e-a224-bfb4c8908a09",
   "metadata": {},
   "source": [
    "#### Conclusion"
   ]
  },
  {
   "cell_type": "markdown",
   "id": "8af37155-6681-4353-a280-430f9fef6fcc",
   "metadata": {},
   "source": [
    "Mean Absolute Error (MAE): 2.30\n",
    "On average, the predicted closing price deviates from the actual price by about $2.30.\n",
    "\n",
    "Mean Squared Error (MSE): 10.46\n",
    "This value confirms that the overall error magnitude is low, with larger errors being penalized more.\n",
    "\n",
    "R² Score: 0.9510\n",
    "Approximately 95% of the variance in the closing price is explained by our model, indicating an excellent fit."
   ]
  }
 ],
 "metadata": {
  "kernelspec": {
   "display_name": "Python 3 (ipykernel)",
   "language": "python",
   "name": "python3"
  },
  "language_info": {
   "codemirror_mode": {
    "name": "ipython",
    "version": 3
   },
   "file_extension": ".py",
   "mimetype": "text/x-python",
   "name": "python",
   "nbconvert_exporter": "python",
   "pygments_lexer": "ipython3",
   "version": "3.11.7"
  }
 },
 "nbformat": 4,
 "nbformat_minor": 5
}
